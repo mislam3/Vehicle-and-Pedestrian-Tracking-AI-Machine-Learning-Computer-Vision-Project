{
  "nbformat": 4,
  "nbformat_minor": 0,
  "metadata": {
    "colab": {
      "name": "Pedestrian and Vehicle Tracking - Machine Learning | Computer Vision Project.ipynb",
      "provenance": [],
      "authorship_tag": "ABX9TyP3a49xJR4glQyYH2rOqX3y",
      "include_colab_link": true
    },
    "kernelspec": {
      "name": "python3",
      "display_name": "Python 3"
    }
  },
  "cells": [
    {
      "cell_type": "markdown",
      "metadata": {
        "id": "view-in-github",
        "colab_type": "text"
      },
      "source": [
        "<a href=\"https://colab.research.google.com/github/mislam3/Vehicle-and-Pedestrian-Tracking-AI-Machine-Learning-Computer-Vision-Project/blob/master/Pedestrian_and_Vehicle_Tracking_AI%20%3AMachine_Learning_%7C_Computer_Vision_Project.ipynb\" target=\"_parent\"><img src=\"https://colab.research.google.com/assets/colab-badge.svg\" alt=\"Open In Colab\"/></a>"
      ]
    },
    {
      "cell_type": "code",
      "metadata": {
        "id": "9CRf6ShDx8C1",
        "colab_type": "code",
        "colab": {}
      },
      "source": [
        ""
      ],
      "execution_count": null,
      "outputs": []
    }
  ]
}