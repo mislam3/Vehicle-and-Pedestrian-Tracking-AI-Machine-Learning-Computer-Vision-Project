{
  "nbformat": 4,
  "nbformat_minor": 0,
  "metadata": {
    "colab": {
      "name": "Pedestrian and Vehicle Tracking - Machine Learning | Computer Vision Project.ipynb",
      "provenance": [],
      "collapsed_sections": [],
      "toc_visible": true,
      "authorship_tag": "ABX9TyNaH4KMIFVK/xTck+xyyOml",
      "include_colab_link": true
    },
    "kernelspec": {
      "name": "python3",
      "display_name": "Python 3"
    }
  },
  "cells": [
    {
      "cell_type": "markdown",
      "metadata": {
        "id": "view-in-github",
        "colab_type": "text"
      },
      "source": [
        "<a href=\"https://colab.research.google.com/github/mislam3/Vehicle-and-Pedestrian-Tracking-AI-Machine-Learning-Computer-Vision-Project/blob/master/Pedestrian_and_Vehicle_Tracking_Machine_Learning_%7C_Computer_Vision_Project.ipynb\" target=\"_parent\"><img src=\"https://colab.research.google.com/assets/colab-badge.svg\" alt=\"Open In Colab\"/></a>"
      ]
    },
    {
      "cell_type": "markdown",
      "metadata": {
        "id": "pUPynOsVcOxs",
        "colab_type": "text"
      },
      "source": [
        "# IN-PROGRESS......................"
      ]
    },
    {
      "cell_type": "code",
      "metadata": {
        "id": "9CRf6ShDx8C1",
        "colab_type": "code",
        "colab": {}
      },
      "source": [
        ""
      ],
      "execution_count": null,
      "outputs": []
    },
    {
      "cell_type": "markdown",
      "metadata": {
        "id": "VKzXUXgU0C5C",
        "colab_type": "text"
      },
      "source": [
        "# 1. Acquire massive image datasets of vehicles on the road \n",
        "# 2. Grayscale conversion/ black & white- makes algorithm faster - less data to process compared to rgb color images - less processing time. We are not identifying green apples vs red ones where rgb data might be useful since the shapes are very similar \n",
        "# 3. Train the algorithm to detect vehicles; Use 'Haar Features' eg: Edge features, Line features, Four-Rectangle features eg. pixel valuation via dark/light region comparisons between two points. tracks features or shapes, clusters or adds all haar features that make up shape of vehicle or objects and classifies accordingly...chk expl.\n",
        "# 4. Apply same with pedestrians\n",
        "# 5. \n",
        "\n",
        "\n"
      ]
    },
    {
      "cell_type": "code",
      "metadata": {
        "id": "3xqFpmX05Ga-",
        "colab_type": "code",
        "colab": {
          "base_uri": "https://localhost:8080/",
          "height": 34
        },
        "outputId": "1b7ee346-d199-4dce-d2fb-adc958bb4bb3"
      },
      "source": [
        "import cv2\n",
        "\n",
        "\n",
        "# input image \n",
        "car_img = 'car.jpg'\n",
        "\n",
        "# input video\n",
        "video = cv2.VideoCapture('Dashcam.mp4')\n",
        "\n",
        "\n",
        "# pre-trained vehicle classifier\n",
        "\n",
        "classifier_car = 'car_detector.xml'\n",
        "\n",
        "#\n",
        "while True:      # runs infinitely until eg. in case of being utilized in autonomous vehicles, the vehicle is stopped\n",
        "  # Read current frame from the video\n",
        "  read_success, frame = video.read()\n",
        "  \n",
        "\n",
        "\n",
        "\n",
        "# creating/reading in opencv image\n",
        "img = cv2.imeread(car_img)\n",
        "\n",
        "# conversion to grayscale: required for haar cascade\n",
        "to_grayscale = cv2.cvtColor(img, cv2.COLOR_BGR2GRAY)\n",
        "\n",
        "# creating vehicle classifier : running Haar casscade algorithm\n",
        "vehicle_tracker = cv2.CascadeClassifier(classifier_file)\n",
        "\n",
        "# vehicle detection : detect cars of any scale ; check out opencv documentation for more tweaking parameters for fine tuning\n",
        "vehicles = vehicle_tracker.detectMultiScale(to_grayscale)\n",
        "\n",
        "# print(vehicles) # returns coordinates of the identified vehicle rectangle\n",
        "# eg.  vehicle1 = vehicles[0]\n",
        "#     (x, y, w, h) = vehicle1   :unpacks the four coordinates into the variables\n",
        "#     cv2.rectangle(img, (x, y), (x+w, y+h), (0, 0, 255), 2)\n",
        "#     cv2.imshow('Siam's vehicle Detection', img)\n",
        "# outputs the rectangle on the first detected vehicle : rectangle between top-left and bottom-right as indicated within parameters\n",
        "# loop through all the identified vehicles subarrays/lists and place rectangles. In Python (and maybe Javascript), x,y,w,h is mapped to the four objects inside each list\n",
        "# bonus: train ML model to identify all perspectives of cars incl. partial ones and unique vehicles as well. Will require a large varied dataset\n",
        "\n",
        "# show rectangle around identified vehicles\n",
        "for (x, y, w, h) in vehicles:\n",
        "  cv2.rectangle(img, (x, y), (x+w, y+h), (0, 0, 255), 2)  # x and y coordinates taken from returned vehicle output coordinate array, adds to width and height; next paramenters sets color of rectangle\n",
        "\n",
        "\n",
        "\n",
        "\n",
        "\n",
        "# Displaying image with faces identified\n",
        "cv2.imshow('Siam Vehicle Detector', to_grayscale)\n",
        "\n",
        "# Prevent autoclose: Wait here in the code and listen for key press\n",
        "cv2.waitKey()\n",
        "\n",
        "print(\"Code Completed\")\n",
        "\n",
        "# apply classifier to image\n"
      ],
      "execution_count": 2,
      "outputs": [
        {
          "output_type": "stream",
          "text": [
            "poop\n"
          ],
          "name": "stdout"
        }
      ]
    }
  ]
}